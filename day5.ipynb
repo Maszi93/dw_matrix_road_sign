{
  "nbformat": 4,
  "nbformat_minor": 0,
  "metadata": {
    "colab": {
      "name": "day5.ipynb",
      "provenance": [],
      "authorship_tag": "ABX9TyPlDBptqiuE+1AIbbmfC31X",
      "include_colab_link": true
    },
    "kernelspec": {
      "name": "python3",
      "display_name": "Python 3"
    },
    "accelerator": "GPU"
  },
  "cells": [
    {
      "cell_type": "markdown",
      "metadata": {
        "id": "view-in-github",
        "colab_type": "text"
      },
      "source": [
        "<a href=\"https://colab.research.google.com/github/Maszi93/dw_matrix_road_sign/blob/master/day5.ipynb\" target=\"_parent\"><img src=\"https://colab.research.google.com/assets/colab-badge.svg\" alt=\"Open In Colab\"/></a>"
      ]
    },
    {
      "cell_type": "code",
      "metadata": {
        "id": "Acfiqh1VoK7a",
        "colab_type": "code",
        "colab": {
          "base_uri": "https://localhost:8080/",
          "height": 121
        },
        "outputId": "329fd642-a9a1-439e-a0ce-27804079c15a"
      },
      "source": [
        "from google.colab import drive\n",
        "drive.mount('/content/drive')"
      ],
      "execution_count": 1,
      "outputs": [
        {
          "output_type": "stream",
          "text": [
            "Go to this URL in a browser: https://accounts.google.com/o/oauth2/auth?client_id=947318989803-6bn6qk8qdgf4n4g3pfee6491hc0brc4i.apps.googleusercontent.com&redirect_uri=urn%3aietf%3awg%3aoauth%3a2.0%3aoob&response_type=code&scope=email%20https%3a%2f%2fwww.googleapis.com%2fauth%2fdocs.test%20https%3a%2f%2fwww.googleapis.com%2fauth%2fdrive%20https%3a%2f%2fwww.googleapis.com%2fauth%2fdrive.photos.readonly%20https%3a%2f%2fwww.googleapis.com%2fauth%2fpeopleapi.readonly\n",
            "\n",
            "Enter your authorization code:\n",
            "··········\n",
            "Mounted at /content/drive\n"
          ],
          "name": "stdout"
        }
      ]
    },
    {
      "cell_type": "code",
      "metadata": {
        "id": "FKSYidQ3odLp",
        "colab_type": "code",
        "colab": {
          "base_uri": "https://localhost:8080/",
          "height": 168
        },
        "outputId": "45a6cf67-7a81-4e09-e136-c900f392b32a"
      },
      "source": [
        "!pip install hyperopt"
      ],
      "execution_count": 3,
      "outputs": [
        {
          "output_type": "stream",
          "text": [
            "Requirement already satisfied: hyperopt in /usr/local/lib/python3.6/dist-packages (0.1.2)\n",
            "Requirement already satisfied: tqdm in /usr/local/lib/python3.6/dist-packages (from hyperopt) (4.38.0)\n",
            "Requirement already satisfied: future in /usr/local/lib/python3.6/dist-packages (from hyperopt) (0.16.0)\n",
            "Requirement already satisfied: networkx in /usr/local/lib/python3.6/dist-packages (from hyperopt) (2.4)\n",
            "Requirement already satisfied: pymongo in /usr/local/lib/python3.6/dist-packages (from hyperopt) (3.10.1)\n",
            "Requirement already satisfied: scipy in /usr/local/lib/python3.6/dist-packages (from hyperopt) (1.4.1)\n",
            "Requirement already satisfied: six in /usr/local/lib/python3.6/dist-packages (from hyperopt) (1.12.0)\n",
            "Requirement already satisfied: numpy in /usr/local/lib/python3.6/dist-packages (from hyperopt) (1.18.2)\n",
            "Requirement already satisfied: decorator>=4.3.0 in /usr/local/lib/python3.6/dist-packages (from networkx->hyperopt) (4.4.2)\n"
          ],
          "name": "stdout"
        }
      ]
    },
    {
      "cell_type": "code",
      "metadata": {
        "id": "1k3miCrzooG_",
        "colab_type": "code",
        "colab": {
          "base_uri": "https://localhost:8080/",
          "height": 50
        },
        "outputId": "437b93ea-23dc-4a54-e521-9f67a654e76a"
      },
      "source": [
        "import pandas as pd\n",
        "import numpy as np\n",
        "import os\n",
        "import datetime\n",
        "\n",
        "import tensorflow as tf\n",
        "from tensorflow.keras.models import Sequential\n",
        "from tensorflow.keras.layers import Conv2D, MaxPool2D, Dense, Flatten, Dropout\n",
        "from tensorflow.keras.utils import to_categorical\n",
        "\n",
        "%load_ext tensorboard\n",
        "\n",
        "import matplotlib.pyplot as plt\n",
        "from skimage import color, exposure\n",
        "\n",
        "from sklearn.metrics import accuracy_score\n",
        "\n",
        "from hyperopt import hp, STATUS_OK, tpe, Trials, fmin"
      ],
      "execution_count": 18,
      "outputs": [
        {
          "output_type": "stream",
          "text": [
            "The tensorboard extension is already loaded. To reload it, use:\n",
            "  %reload_ext tensorboard\n"
          ],
          "name": "stdout"
        }
      ]
    },
    {
      "cell_type": "code",
      "metadata": {
        "id": "9DSJyiw63oJl",
        "colab_type": "code",
        "colab": {
          "base_uri": "https://localhost:8080/",
          "height": 34
        },
        "outputId": "d5ab48c9-afb6-453b-9c18-1fc51ab1f1b7"
      },
      "source": [
        "cd '/content/drive/My Drive/Colab Notebooks/matrix/matrix_three/dw_matrix_road_sign'"
      ],
      "execution_count": 5,
      "outputs": [
        {
          "output_type": "stream",
          "text": [
            "/content/drive/My Drive/Colab Notebooks/matrix/matrix_three/dw_matrix_road_sign\n"
          ],
          "name": "stdout"
        }
      ]
    },
    {
      "cell_type": "code",
      "metadata": {
        "id": "ojR5dEI83ux1",
        "colab_type": "code",
        "colab": {}
      },
      "source": [
        "train = pd.read_pickle('data/train.p')\n",
        "test = pd.read_pickle('data/test.p')\n",
        "\n",
        "X_train, y_train = train['features'], train['labels']\n",
        "X_test, y_test = test['features'], test['labels']"
      ],
      "execution_count": 0,
      "outputs": []
    },
    {
      "cell_type": "code",
      "metadata": {
        "id": "X_lKHObC4g48",
        "colab_type": "code",
        "colab": {}
      },
      "source": [
        "if y_train.ndim==1: y_train = to_categorical(y_train)\n",
        "if y_test.ndim==1: y_test = to_categorical(y_test)\n",
        "\n",
        "input_shape = X_train.shape[1:]\n",
        "num_classes = y_train.shape[1]"
      ],
      "execution_count": 0,
      "outputs": []
    },
    {
      "cell_type": "code",
      "metadata": {
        "id": "xBhLhefS4tj7",
        "colab_type": "code",
        "colab": {}
      },
      "source": [
        "def train_model(model, X_train, y_train, params_fit={}):\n",
        "  model.compile(loss='categorical_crossentropy', optimizer='Adam', metrics=['accuracy'])\n",
        "  \n",
        "  logdir = os.path.join(\"logs\", datetime.datetime.now().strftime(\"%Y%m%d-%H%M%S\"))\n",
        "  tensorboard_callback = tf.keras.callbacks.TensorBoard(logdir, histogram_freq=1)\n",
        "\n",
        "  model.fit(\n",
        "      X_train, \n",
        "      y_train,\n",
        "      batch_size=params_fit.get('batch_size', 128),\n",
        "      epochs=params_fit.get('epochs', 5),\n",
        "      verbose=params_fit.get('verbose', 1),\n",
        "      validation_data=params_fit.get('validation_data', (X_train, y_train)),\n",
        "      callbacks = [tensorboard_callback]\n",
        "      )\n",
        "  return model\n",
        "\n",
        "def predict(model_trained, X_test, y_test, scoring=accuracy_score):\n",
        "\n",
        "  y_test_norm = np.argmax(y_test, axis=1)\n",
        "\n",
        "  y_pred_prob = model_trained.predict(X_test)\n",
        "  y_pred = np.argmax(y_pred_prob, axis=1)\n",
        "\n",
        "  return scoring(y_test_norm, y_pred)"
      ],
      "execution_count": 0,
      "outputs": []
    },
    {
      "cell_type": "code",
      "metadata": {
        "id": "-KrLXCjD5OuK",
        "colab_type": "code",
        "colab": {}
      },
      "source": [
        "def get_cnn_v5(input_shape, num_classes):\n",
        "  return Sequential((\n",
        "    Conv2D(filters=32, kernel_size=(3,3), activation='relu', input_shape=input_shape),\n",
        "    Conv2D(filters=32, kernel_size=(3,3), activation='relu', padding='same'),\n",
        "    MaxPool2D(),\n",
        "    Dropout(0.3),\n",
        "\n",
        "    Conv2D(filters=64, kernel_size=(3,3), activation='relu', padding='same'),\n",
        "    Conv2D(filters=64, kernel_size=(3,3), activation='relu'),\n",
        "    MaxPool2D(),\n",
        "    Dropout(0.3),\n",
        "\n",
        "    Conv2D(filters=64, kernel_size=(3,3), activation='relu', padding='same'),\n",
        "    Conv2D(filters=64, kernel_size=(3,3), activation='relu'),\n",
        "    MaxPool2D(),\n",
        "    Dropout(0.3),\n",
        "\n",
        "    Flatten(),\n",
        "\n",
        "    Dense(1024, activation='relu'),\n",
        "    Dropout(0.3),\n",
        "    \n",
        "    Dense(1024, activation='relu'),\n",
        "    Dropout(0.3),\n",
        "\n",
        "    Dense(num_classes, activation='softmax'),\n",
        "))"
      ],
      "execution_count": 0,
      "outputs": []
    },
    {
      "cell_type": "code",
      "metadata": {
        "id": "w94_vENd5pOw",
        "colab_type": "code",
        "colab": {
          "base_uri": "https://localhost:8080/",
          "height": 202
        },
        "outputId": "6c21f808-2ef9-45a6-e25c-6e4ec6bc3366"
      },
      "source": [
        "model = get_cnn_v5(input_shape, num_classes)\n",
        "model_trained = train_model(model, X_train, y_train)\n",
        "\n",
        "predict(model_trained, X_test, y_test)"
      ],
      "execution_count": 12,
      "outputs": [
        {
          "output_type": "stream",
          "text": [
            "Epoch 1/5\n",
            "272/272 [==============================] - 5s 19ms/step - loss: 2.6501 - accuracy: 0.2783 - val_loss: 1.2064 - val_accuracy: 0.6140\n",
            "Epoch 2/5\n",
            "272/272 [==============================] - 5s 18ms/step - loss: 0.9462 - accuracy: 0.6959 - val_loss: 0.2698 - val_accuracy: 0.9144\n",
            "Epoch 3/5\n",
            "272/272 [==============================] - 5s 17ms/step - loss: 0.4238 - accuracy: 0.8666 - val_loss: 0.1101 - val_accuracy: 0.9680\n",
            "Epoch 4/5\n",
            "272/272 [==============================] - 5s 17ms/step - loss: 0.2667 - accuracy: 0.9185 - val_loss: 0.0604 - val_accuracy: 0.9817\n",
            "Epoch 5/5\n",
            "272/272 [==============================] - 5s 17ms/step - loss: 0.1934 - accuracy: 0.9435 - val_loss: 0.0362 - val_accuracy: 0.9900\n"
          ],
          "name": "stdout"
        },
        {
          "output_type": "execute_result",
          "data": {
            "text/plain": [
              "0.9662131519274376"
            ]
          },
          "metadata": {
            "tags": []
          },
          "execution_count": 12
        }
      ]
    },
    {
      "cell_type": "code",
      "metadata": {
        "id": "Mw4wCxpK7kZz",
        "colab_type": "code",
        "colab": {
          "base_uri": "https://localhost:8080/",
          "height": 50
        },
        "outputId": "86d78e74-4d8d-4f6c-a629-f3a170807c2f"
      },
      "source": [
        "model_trained.evaluate(X_test, y_test)[1]"
      ],
      "execution_count": 14,
      "outputs": [
        {
          "output_type": "stream",
          "text": [
            "138/138 [==============================] - 0s 3ms/step - loss: 0.1283 - accuracy: 0.9662\n"
          ],
          "name": "stdout"
        },
        {
          "output_type": "execute_result",
          "data": {
            "text/plain": [
              "0.9662131667137146"
            ]
          },
          "metadata": {
            "tags": []
          },
          "execution_count": 14
        }
      ]
    },
    {
      "cell_type": "code",
      "metadata": {
        "id": "xAZQiaMmCah7",
        "colab_type": "code",
        "colab": {}
      },
      "source": [
        "def get_model(params):\n",
        "  return Sequential((\n",
        "    Conv2D(filters=32, kernel_size=(3,3), activation='relu', input_shape=input_shape),  \n",
        "    Conv2D(filters=32, kernel_size=(3,3), activation='relu', padding='same'),\n",
        "    MaxPool2D(),\n",
        "    Dropout(params['dropout_cnn_block_one']),\n",
        "\n",
        "    Conv2D(filters=64, kernel_size=(3,3), activation='relu', padding='same'),\n",
        "    Conv2D(filters=64, kernel_size=(3,3), activation='relu'),\n",
        "    MaxPool2D(),\n",
        "    Dropout(params['dropout_cnn_block_two']),\n",
        "\n",
        "    Conv2D(filters=128, kernel_size=(3,3), activation='relu', padding='same'),\n",
        "    Conv2D(filters=128, kernel_size=(3,3), activation='relu'),\n",
        "    MaxPool2D(),\n",
        "    Dropout(params['dropout_cnn_block_three']),\n",
        "\n",
        "    Flatten(),\n",
        "\n",
        "    Dense(1024, activation='relu'),\n",
        "    Dropout(params['dropout_dense_block_one']),\n",
        "    \n",
        "    Dense(1024, activation='relu'),\n",
        "    Dropout(params['dropout_dense_block_two']),\n",
        "\n",
        "    Dense(num_classes, activation='softmax'),\n",
        "))"
      ],
      "execution_count": 0,
      "outputs": []
    },
    {
      "cell_type": "code",
      "metadata": {
        "id": "eXljanYk6CHo",
        "colab_type": "code",
        "colab": {}
      },
      "source": [
        "def func_obj(params):\n",
        "  model = get_model(params)\n",
        "  model.compile(loss='categorical_crossentropy', optimizer='Adam', metrics=['accuracy'])\n",
        "  \n",
        "  logdir = os.path.join(\"logs\", datetime.datetime.now().strftime(\"%Y%m%d-%H%M%S\"))\n",
        "  tensorboard_callback = tf.keras.callbacks.TensorBoard(logdir, histogram_freq=1)\n",
        "\n",
        "  model.fit(\n",
        "      X_train, \n",
        "      y_train,\n",
        "      batch_size=int(params.get('batch_size', 128)),\n",
        "      epochs=5,\n",
        "      verbose=0,\n",
        "      )\n",
        "  \n",
        "  score = model.evaluate(X_test, y_test, verbose=0)\n",
        "  accuracy = score[1]\n",
        "  print(params, 'accuracy={}'.format(accuracy))\n",
        "\n",
        "  return {'loss': -accuracy, 'status': STATUS_OK, 'model': model}"
      ],
      "execution_count": 0,
      "outputs": []
    },
    {
      "cell_type": "code",
      "metadata": {
        "id": "9I-FGkEZ8bOg",
        "colab_type": "code",
        "colab": {
          "base_uri": "https://localhost:8080/",
          "height": 1000
        },
        "outputId": "ffa2ccac-f9fe-4dfd-ae50-97c081822d7e"
      },
      "source": [
        "space = {\n",
        "    'batch-size': hp.quniform('batch-size', 100, 200, 10),\n",
        "    'dropout_cnn_block_one': hp.uniform('dropout_cnn_block_one', 0.3, 0.5),\n",
        "    'dropout_cnn_block_two': hp.uniform('dropout_cnn_block_two', 0.3, 0.5),\n",
        "    'dropout_cnn_block_three': hp.uniform('dropout_cnn_block_three', 0.3, 0.5),\n",
        "\n",
        "    'dropout_dense_block_one': hp.uniform('dropout_dense_block_one', 0.3, 0.7),\n",
        "    'dropout_dense_block_two': hp.uniform('dropout_dense_block_two', 0.3, 0.7),\n",
        "}\n",
        "\n",
        "best = fmin(\n",
        "    func_obj,\n",
        "    space,\n",
        "    tpe.suggest,\n",
        "    30,\n",
        "    Trials()\n",
        ")"
      ],
      "execution_count": 42,
      "outputs": [
        {
          "output_type": "stream",
          "text": [
            "{'batch-size': 200.0, 'dropout_cnn_block_one': 0.35044296133805186, 'dropout_cnn_block_three': 0.46831948150358294, 'dropout_cnn_block_two': 0.49082098915999056, 'dropout_dense_block_one': 0.3098483236212247, 'dropout_dense_block_two': 0.47699274234801947}\n",
            "accuracy=0.8963719010353088\n",
            "{'batch-size': 160.0, 'dropout_cnn_block_one': 0.3188107940152783, 'dropout_cnn_block_three': 0.4005327341840174, 'dropout_cnn_block_two': 0.3665936331124439, 'dropout_dense_block_one': 0.5107742174958886, 'dropout_dense_block_two': 0.3341282774546242}\n",
            "accuracy=0.9657596349716187\n",
            "{'batch-size': 180.0, 'dropout_cnn_block_one': 0.45130713413140444, 'dropout_cnn_block_three': 0.4528738593874273, 'dropout_cnn_block_two': 0.41653898295474434, 'dropout_dense_block_one': 0.41551976821201386, 'dropout_dense_block_two': 0.6337109906948662}\n",
            "accuracy=0.884353756904602\n",
            "{'batch-size': 180.0, 'dropout_cnn_block_one': 0.36197297008174334, 'dropout_cnn_block_three': 0.3699622667208602, 'dropout_cnn_block_two': 0.30335457784505354, 'dropout_dense_block_one': 0.38361068403900567, 'dropout_dense_block_two': 0.5386300214841672}\n",
            "accuracy=0.963718831539154\n",
            "{'batch-size': 130.0, 'dropout_cnn_block_one': 0.4000093568319127, 'dropout_cnn_block_three': 0.41432183799052014, 'dropout_cnn_block_two': 0.39641815272252806, 'dropout_dense_block_one': 0.59106887557229, 'dropout_dense_block_two': 0.6655972942887671}\n",
            "accuracy=0.8365079164505005\n",
            "{'batch-size': 150.0, 'dropout_cnn_block_one': 0.34524047984455664, 'dropout_cnn_block_three': 0.3620812217219293, 'dropout_cnn_block_two': 0.4962093745653742, 'dropout_dense_block_one': 0.397608683092486, 'dropout_dense_block_two': 0.44743713828910786}\n",
            "accuracy=0.9433106780052185\n",
            "{'batch-size': 170.0, 'dropout_cnn_block_one': 0.4243300760740864, 'dropout_cnn_block_three': 0.4546274580826959, 'dropout_cnn_block_two': 0.47881840426680544, 'dropout_dense_block_one': 0.4035290162552021, 'dropout_dense_block_two': 0.4022134040660431}\n",
            "accuracy=0.9267573952674866\n",
            "{'batch-size': 140.0, 'dropout_cnn_block_one': 0.4872952558237433, 'dropout_cnn_block_three': 0.33699468694309676, 'dropout_cnn_block_two': 0.44584814593706523, 'dropout_dense_block_one': 0.44130371437766497, 'dropout_dense_block_two': 0.4727016364444713}\n",
            "accuracy=0.9049886465072632\n",
            "{'batch-size': 190.0, 'dropout_cnn_block_one': 0.48118487234680757, 'dropout_cnn_block_three': 0.39160780582583593, 'dropout_cnn_block_two': 0.3093073385424692, 'dropout_dense_block_one': 0.6970598037554914, 'dropout_dense_block_two': 0.5488352677824201}\n",
            "accuracy=0.86099773645401\n",
            "{'batch-size': 120.0, 'dropout_cnn_block_one': 0.3254373890379048, 'dropout_cnn_block_three': 0.40622981434151606, 'dropout_cnn_block_two': 0.4165430287175903, 'dropout_dense_block_one': 0.48247525601891295, 'dropout_dense_block_two': 0.6212166215459143}\n",
            "accuracy=0.9473922848701477\n",
            "{'batch-size': 110.0, 'dropout_cnn_block_one': 0.33072900586268045, 'dropout_cnn_block_three': 0.4251035873307306, 'dropout_cnn_block_two': 0.4115478808808461, 'dropout_dense_block_one': 0.6658056845415232, 'dropout_dense_block_two': 0.30401218611268793}\n",
            "accuracy=0.9244897961616516\n",
            "{'batch-size': 110.0, 'dropout_cnn_block_one': 0.3818520719870303, 'dropout_cnn_block_three': 0.37152700839844166, 'dropout_cnn_block_two': 0.35094300054095395, 'dropout_dense_block_one': 0.5551856122323058, 'dropout_dense_block_two': 0.5148930656003404}\n",
            "accuracy=0.9521542191505432\n",
            "{'batch-size': 130.0, 'dropout_cnn_block_one': 0.30700516171829817, 'dropout_cnn_block_three': 0.4541236464395214, 'dropout_cnn_block_two': 0.4259989968178172, 'dropout_dense_block_one': 0.5307281449389609, 'dropout_dense_block_two': 0.48039615808284775}\n",
            "accuracy=0.8761904835700989\n",
            "{'batch-size': 150.0, 'dropout_cnn_block_one': 0.45104232967768865, 'dropout_cnn_block_three': 0.3776334881234137, 'dropout_cnn_block_two': 0.3156402120679559, 'dropout_dense_block_one': 0.4743994502500797, 'dropout_dense_block_two': 0.5656194319124885}\n",
            "accuracy=0.9006802439689636\n",
            "{'batch-size': 150.0, 'dropout_cnn_block_one': 0.41018051179064646, 'dropout_cnn_block_three': 0.30722741757990163, 'dropout_cnn_block_two': 0.3447752059389288, 'dropout_dense_block_one': 0.3978437881764626, 'dropout_dense_block_two': 0.30538431270987443}\n",
            "accuracy=0.9653061032295227\n",
            "{'batch-size': 160.0, 'dropout_cnn_block_one': 0.3239031817810337, 'dropout_cnn_block_three': 0.3977102854352477, 'dropout_cnn_block_two': 0.48036089381757247, 'dropout_dense_block_one': 0.5600223017063701, 'dropout_dense_block_two': 0.40892721415037087}\n",
            "accuracy=0.958730161190033\n",
            "{'batch-size': 160.0, 'dropout_cnn_block_one': 0.3598659490279159, 'dropout_cnn_block_three': 0.3502997884332273, 'dropout_cnn_block_two': 0.4171038236620698, 'dropout_dense_block_one': 0.37742835599474817, 'dropout_dense_block_two': 0.5031143485268857}\n",
            "accuracy=0.9662131667137146\n",
            "{'batch-size': 160.0, 'dropout_cnn_block_one': 0.4884941467511953, 'dropout_cnn_block_three': 0.41175316522979416, 'dropout_cnn_block_two': 0.43557479190456727, 'dropout_dense_block_one': 0.3478669150702227, 'dropout_dense_block_two': 0.4170808579039696}\n",
            "accuracy=0.9365079402923584\n",
            "{'batch-size': 170.0, 'dropout_cnn_block_one': 0.4908112299842673, 'dropout_cnn_block_three': 0.30791650127505227, 'dropout_cnn_block_two': 0.37638126422546064, 'dropout_dense_block_one': 0.3955890490424513, 'dropout_dense_block_two': 0.5970137150633439}\n",
            "accuracy=0.9471655488014221\n",
            "{'batch-size': 190.0, 'dropout_cnn_block_one': 0.3292207043639798, 'dropout_cnn_block_three': 0.3535965429654889, 'dropout_cnn_block_two': 0.46613776762042813, 'dropout_dense_block_one': 0.375037856797711, 'dropout_dense_block_two': 0.5725086855244633}\n",
            "accuracy=0.9523809552192688\n",
            "{'batch-size': 160.0, 'dropout_cnn_block_one': 0.301124161101259, 'dropout_cnn_block_three': 0.3425615176474672, 'dropout_cnn_block_two': 0.37774267280535634, 'dropout_dense_block_one': 0.6290434132618536, 'dropout_dense_block_two': 0.37471613542541543}\n",
            "accuracy=0.9528344869613647\n",
            "{'batch-size': 140.0, 'dropout_cnn_block_one': 0.3747312591066506, 'dropout_cnn_block_three': 0.3237460877858942, 'dropout_cnn_block_two': 0.3400806291664596, 'dropout_dense_block_one': 0.3024559768663684, 'dropout_dense_block_two': 0.3500151705937829}\n",
            "accuracy=0.9630385637283325\n",
            "{'batch-size': 170.0, 'dropout_cnn_block_one': 0.38202412097047667, 'dropout_cnn_block_three': 0.4322597766352833, 'dropout_cnn_block_two': 0.37688925340645724, 'dropout_dense_block_one': 0.5167322527132605, 'dropout_dense_block_two': 0.6956219585387003}\n",
            "accuracy=0.9396825432777405\n",
            "{'batch-size': 140.0, 'dropout_cnn_block_one': 0.300316885114506, 'dropout_cnn_block_three': 0.38271116335617, 'dropout_cnn_block_two': 0.39675056989934643, 'dropout_dense_block_one': 0.4541825986885621, 'dropout_dense_block_two': 0.3542077506342517}\n",
            "accuracy=0.9607709646224976\n",
            "{'batch-size': 180.0, 'dropout_cnn_block_one': 0.36036445116531407, 'dropout_cnn_block_three': 0.4929713749093893, 'dropout_cnn_block_two': 0.3609255027712938, 'dropout_dense_block_one': 0.33922584376438386, 'dropout_dense_block_two': 0.5254975525622221}\n",
            "accuracy=0.9512471556663513\n",
            "{'batch-size': 160.0, 'dropout_cnn_block_one': 0.31279836417079215, 'dropout_cnn_block_three': 0.33732223275660855, 'dropout_cnn_block_two': 0.3239432171365145, 'dropout_dense_block_one': 0.5879661195972394, 'dropout_dense_block_two': 0.4475538402977132}\n",
            "accuracy=0.9716553092002869\n",
            "{'batch-size': 130.0, 'dropout_cnn_block_one': 0.3398269802001674, 'dropout_cnn_block_three': 0.32639807002186494, 'dropout_cnn_block_two': 0.3242866679877051, 'dropout_dense_block_one': 0.601734013509943, 'dropout_dense_block_two': 0.4440441985610347}\n",
            "accuracy=0.9548752903938293\n",
            "{'batch-size': 200.0, 'dropout_cnn_block_one': 0.3666091896942844, 'dropout_cnn_block_three': 0.3507680972988791, 'dropout_cnn_block_two': 0.4549360272221638, 'dropout_dense_block_one': 0.6589362518029873, 'dropout_dense_block_two': 0.4403794886998175}\n",
            "accuracy=0.8612244725227356\n",
            "{'batch-size': 190.0, 'dropout_cnn_block_one': 0.3457979874581017, 'dropout_cnn_block_three': 0.30047190315963557, 'dropout_cnn_block_two': 0.32916892482519344, 'dropout_dense_block_one': 0.33685425402889047, 'dropout_dense_block_two': 0.49129275578791315}\n",
            "accuracy=0.9646258354187012\n",
            "{'batch-size': 170.0, 'dropout_cnn_block_one': 0.3135717599305946, 'dropout_cnn_block_three': 0.3256540915796867, 'dropout_cnn_block_two': 0.39517672927245356, 'dropout_dense_block_one': 0.5494201873697732, 'dropout_dense_block_two': 0.5056195236290772}\n",
            "accuracy=0.9337868690490723\n",
            "100%|██████████| 30/30 [07:45<00:00, 15.53s/it, best loss: -0.9716553092002869]\n"
          ],
          "name": "stdout"
        }
      ]
    }
  ]
}